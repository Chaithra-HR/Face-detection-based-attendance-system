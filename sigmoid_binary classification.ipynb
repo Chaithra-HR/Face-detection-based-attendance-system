{
 "cells": [
  {
   "cell_type": "code",
   "execution_count": 23,
   "id": "a0dfc5f3",
   "metadata": {},
   "outputs": [],
   "source": [
    "import tensorflow as tf\n",
    "import matplotlib.pyplot as plt\n",
    "import cv2\n",
    "import os\n",
    "import numpy as np\n",
    "from tensorflow.keras.preprocessing.image import ImageDataGenerator\n",
    "from tensorflow.keras.preprocessing import image\n",
    "from tensorflow.keras.optimizers import RMSprop"
   ]
  },
  {
   "cell_type": "code",
   "execution_count": 24,
   "id": "7151e160",
   "metadata": {},
   "outputs": [],
   "source": [
    "train_datagen = ImageDataGenerator(rescale = 1/255)\n",
    "\n",
    "test_datagen = ImageDataGenerator(rescale = 1/255)"
   ]
  },
  {
   "cell_type": "code",
   "execution_count": 25,
   "id": "ac214dab",
   "metadata": {},
   "outputs": [
    {
     "name": "stdout",
     "output_type": "stream",
     "text": [
      "Found 3200 images belonging to 2 classes.\n",
      "Found 802 images belonging to 2 classes.\n"
     ]
    }
   ],
   "source": [
    "train_dataset = train_datagen.flow_from_directory(r'C:\\Users\\adi\\Desktop\\face detection based attendance system\\divided\\train',\n",
    "                                                 target_size = (200, 200),\n",
    "                                                 batch_size = 3,\n",
    "                                                 class_mode = 'binary')\n",
    "validation_dataset = test_datagen.flow_from_directory(r'C:\\Users\\adi\\Desktop\\face detection based attendance system\\divided\\val',\n",
    "                                            target_size = (200,200),\n",
    "                                            batch_size = 3,\n",
    "                                            class_mode = 'binary')\n",
    "\n"
   ]
  },
  {
   "cell_type": "code",
   "execution_count": 26,
   "id": "9c5128ae",
   "metadata": {},
   "outputs": [
    {
     "name": "stdout",
     "output_type": "stream",
     "text": [
      "{0: 'arindam', 1: 'divya'}\n"
     ]
    }
   ],
   "source": [
    "list=validation_dataset.class_indices\n",
    "lable=dict([(value,key)for key,value in list.items()])\n",
    "print(lable)"
   ]
  },
  {
   "cell_type": "code",
   "execution_count": 27,
   "id": "70025109",
   "metadata": {},
   "outputs": [],
   "source": [
    "model=tf.keras.models.Sequential([tf.keras.layers.Conv2D(16,(3,3),activation=\"relu\",input_shape=(200,200,3)),\n",
    "                                  tf.keras.layers.MaxPooling2D(pool_size = (2, 2)),\n",
    "                                  #\n",
    "                                  tf.keras.layers.Conv2D(32,(3,3),activation=\"relu\"),\n",
    "                                  tf.keras.layers.MaxPooling2D(pool_size = (2, 2)),\n",
    "                                  #\n",
    "                                  tf.keras.layers.Conv2D(64,(3,3),activation=\"relu\"),\n",
    "                                  tf.keras.layers.MaxPooling2D(pool_size = (2, 2)),\n",
    "                                  ##\n",
    "                                  tf.keras.layers.Flatten(),\n",
    "                                  ##\n",
    "                                  tf.keras.layers.Dense(512,activation=\"relu\"),\n",
    "                                  ##\n",
    "                                  tf.keras.layers.Dense(1,activation=\"sigmoid\")\n",
    "                                  \n",
    "                                 ])"
   ]
  },
  {
   "cell_type": "code",
   "execution_count": 28,
   "id": "5ef1cd10",
   "metadata": {},
   "outputs": [],
   "source": [
    "model.compile(loss=\"binary_crossentropy\",\n",
    "             optimizer=RMSprop(learning_rate=0.001),\n",
    "              metrics=['accuracy'])"
   ]
  },
  {
   "cell_type": "code",
   "execution_count": 34,
   "id": "26b1ed73",
   "metadata": {},
   "outputs": [
    {
     "name": "stdout",
     "output_type": "stream",
     "text": [
      "Epoch 1/6\n",
      "10/10 [==============================] - 11s 1s/step - loss: 5.0749e-06 - accuracy: 1.0000 - val_loss: 0.0163 - val_accuracy: 0.9975\n",
      "Epoch 2/6\n",
      "10/10 [==============================] - 10s 1s/step - loss: 2.9073e-06 - accuracy: 1.0000 - val_loss: 0.0171 - val_accuracy: 0.9975\n",
      "Epoch 3/6\n",
      "10/10 [==============================] - 10s 1s/step - loss: 7.1163e-07 - accuracy: 1.0000 - val_loss: 0.0173 - val_accuracy: 0.9975\n",
      "Epoch 4/6\n",
      "10/10 [==============================] - 10s 1s/step - loss: 2.1737e-06 - accuracy: 1.0000 - val_loss: 0.0227 - val_accuracy: 0.9975\n",
      "Epoch 5/6\n",
      "10/10 [==============================] - 10s 1s/step - loss: 1.2821 - accuracy: 0.9000 - val_loss: 0.0962 - val_accuracy: 0.9863\n",
      "Epoch 6/6\n",
      "10/10 [==============================] - 10s 1s/step - loss: 0.0918 - accuracy: 0.9667 - val_loss: 0.0069 - val_accuracy: 0.9975\n"
     ]
    }
   ],
   "source": [
    "model_fit=model.fit(train_dataset,\n",
    "                   steps_per_epoch=10,\n",
    "                   epochs=6,\n",
    "                    validation_data=validation_dataset\n",
    "                   )"
   ]
  },
  {
   "cell_type": "code",
   "execution_count": 31,
   "id": "1c662045",
   "metadata": {},
   "outputs": [],
   "source": [
    "model.save(\"model.h5\")"
   ]
  },
  {
   "cell_type": "code",
   "execution_count": 32,
   "id": "02772dfa",
   "metadata": {},
   "outputs": [
    {
     "name": "stdout",
     "output_type": "stream",
     "text": [
      "Model: \"sequential_1\"\n",
      "_________________________________________________________________\n",
      " Layer (type)                Output Shape              Param #   \n",
      "=================================================================\n",
      " conv2d_3 (Conv2D)           (None, 198, 198, 16)      448       \n",
      "                                                                 \n",
      " max_pooling2d_3 (MaxPooling  (None, 99, 99, 16)       0         \n",
      " 2D)                                                             \n",
      "                                                                 \n",
      " conv2d_4 (Conv2D)           (None, 97, 97, 32)        4640      \n",
      "                                                                 \n",
      " max_pooling2d_4 (MaxPooling  (None, 48, 48, 32)       0         \n",
      " 2D)                                                             \n",
      "                                                                 \n",
      " conv2d_5 (Conv2D)           (None, 46, 46, 64)        18496     \n",
      "                                                                 \n",
      " max_pooling2d_5 (MaxPooling  (None, 23, 23, 64)       0         \n",
      " 2D)                                                             \n",
      "                                                                 \n",
      " flatten_1 (Flatten)         (None, 33856)             0         \n",
      "                                                                 \n",
      " dense_2 (Dense)             (None, 512)               17334784  \n",
      "                                                                 \n",
      " dense_3 (Dense)             (None, 1)                 513       \n",
      "                                                                 \n",
      "=================================================================\n",
      "Total params: 17,358,881\n",
      "Trainable params: 17,358,881\n",
      "Non-trainable params: 0\n",
      "_________________________________________________________________\n"
     ]
    }
   ],
   "source": [
    "model.summary()"
   ]
  },
  {
   "cell_type": "code",
   "execution_count": 35,
   "id": "42e93926",
   "metadata": {},
   "outputs": [],
   "source": [
    "from tensorflow import keras\n",
    "import numpy as np\n",
    "import cv2\n",
    "from keras.models import load_model\n",
    "import os\n",
    "import csv\n",
    "from datetime import datetime\n",
    "\n",
    "\n",
    "facedetect = cv2.CascadeClassifier('haarcascade_frontalface_default.xml')\n",
    "\n",
    "cap=cv2.VideoCapture(0)\n",
    "cap.set(3, 640)\n",
    "cap.set(4, 480)\n",
    "font=cv2.FONT_HERSHEY_COMPLEX\n",
    "\n",
    "\n",
    "model = load_model('model.h5')\n",
    "\n",
    "\n",
    "def get_className(predict_x):\n",
    "    x=predict_x[0][0]\n",
    "    x=int(x)\n",
    "    name=lable[x]\n",
    "    with open(\"attend.csv\", \"r+\")as f:\n",
    "        mydata=f.readlines()\n",
    "        namelist=[]\n",
    "        for line in mydata:\n",
    "            entry=line.split(',')\n",
    "            namelist.append(entry[0])\n",
    "        today = datetime.now()\n",
    "        time=today.strftime(\"%H:%M:%S\")\n",
    "        date=today.strftime(\"%d/%m/%y\")\n",
    "        check=name+\" \"+date+\"\\n\"\n",
    "        if check not in mydata:\n",
    "            f.writelines(f'{name} {date}\\n')\n",
    "        return name\n",
    "        \n",
    "while True:\n",
    "\tsucess, imgOrignal=cap.read()\n",
    "\tfaces = facedetect.detectMultiScale(imgOrignal,1.3,5)\n",
    "\tfor x,y,w,h in faces:\n",
    "\t\tcrop_img=imgOrignal[y:y+h,x:x+h]\n",
    "\t\timg=cv2.resize(crop_img, (200,200))\n",
    "\t\timg=img.reshape(1, 200, 200, 3)\n",
    "\t\tpredict_x=model.predict(img)\n",
    "        \n",
    "\t\tclasses_x=np.argmax(predict_x,axis=1)\n",
    "\t\tcv2.rectangle(imgOrignal,(x,y),(x+w,y+h),(0,255,0),2)\n",
    "\t\tcv2.rectangle(imgOrignal, (x,y-40),(x+w, y), (0,255,0),-2)\n",
    "\t\tcv2.putText(imgOrignal, str(get_className(predict_x)),(x,y-10), font, 0.75, (255,255,255),1, cv2.LINE_AA)\n",
    "        \n",
    "\tcv2.imshow(\"Result\",imgOrignal)\n",
    "\tk=cv2.waitKey(1)\n",
    "\tif k==ord('q'):\n",
    "\t\tbreak\n",
    "\n",
    "\n",
    "cap.release()\n",
    "cv2.destroyAllWindows()"
   ]
  },
  {
   "cell_type": "code",
   "execution_count": null,
   "id": "dbf41ca0",
   "metadata": {},
   "outputs": [],
   "source": []
  },
  {
   "cell_type": "code",
   "execution_count": null,
   "id": "3b315817",
   "metadata": {},
   "outputs": [],
   "source": []
  }
 ],
 "metadata": {
  "kernelspec": {
   "display_name": "Python 3 (ipykernel)",
   "language": "python",
   "name": "python3"
  },
  "language_info": {
   "codemirror_mode": {
    "name": "ipython",
    "version": 3
   },
   "file_extension": ".py",
   "mimetype": "text/x-python",
   "name": "python",
   "nbconvert_exporter": "python",
   "pygments_lexer": "ipython3",
   "version": "3.9.10"
  }
 },
 "nbformat": 4,
 "nbformat_minor": 5
}
