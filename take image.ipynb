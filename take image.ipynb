{
 "cells": [
  {
   "cell_type": "code",
   "execution_count": 9,
   "id": "1f2f7360",
   "metadata": {},
   "outputs": [
    {
     "name": "stdout",
     "output_type": "stream",
     "text": [
      "Enter Your Name: a1\n",
      "Creating Images........../images/a1/1.jpg\n",
      "Creating Images........../images/a1/2.jpg\n",
      "Creating Images........../images/a1/3.jpg\n",
      "Creating Images........../images/a1/4.jpg\n",
      "Creating Images........../images/a1/5.jpg\n",
      "Creating Images........../images/a1/6.jpg\n",
      "Creating Images........../images/a1/7.jpg\n",
      "Creating Images........../images/a1/8.jpg\n",
      "Creating Images........../images/a1/9.jpg\n",
      "Creating Images........../images/a1/10.jpg\n",
      "Creating Images........../images/a1/11.jpg\n",
      "Creating Images........../images/a1/12.jpg\n",
      "Creating Images........../images/a1/13.jpg\n",
      "Creating Images........../images/a1/14.jpg\n",
      "Creating Images........../images/a1/15.jpg\n",
      "Creating Images........../images/a1/16.jpg\n",
      "Creating Images........../images/a1/17.jpg\n",
      "Creating Images........../images/a1/18.jpg\n",
      "Creating Images........../images/a1/19.jpg\n",
      "Creating Images........../images/a1/20.jpg\n",
      "Creating Images........../images/a1/21.jpg\n"
     ]
    }
   ],
   "source": [
    "import cv2\n",
    "import os\n",
    "\n",
    "video=cv2.VideoCapture(0)\n",
    "\n",
    "facedetect=cv2.CascadeClassifier('haarcascade_frontalface_default.xml')\n",
    "count=0\n",
    "\n",
    "nameID=str(input(\"Enter Your Name: \")).lower()\n",
    "\n",
    "path='images/'+nameID\n",
    "\n",
    "isExist = os.path.exists(path)\n",
    "\n",
    "if isExist:\n",
    "\tprint(\"Name Already Taken\")\n",
    "\tnameID=str(input(\"Enter Your Name Again: \"))\n",
    "else:\n",
    "\tos.makedirs(path)\n",
    "    \n",
    "\n",
    "while True:\n",
    "\tret,frame=video.read()\n",
    "\tfaces=facedetect.detectMultiScale(frame,1.3, 5)\n",
    "\tfor x,y,w,h in faces:\n",
    "\t\tcount=count+1\n",
    "\t\tname='./images/'+nameID+'/'+ str(count) + '.jpg'\n",
    "\t\tprint(\"Creating Images.........\" +name)\n",
    "\t\tcv2.imwrite(name, frame[y:y+h,x:x+w])\n",
    "\t\tcv2.rectangle(frame, (x,y), (x+w, y+h), (0,255,0), 1)\n",
    "\tcv2.imshow(\"WindowFrame\", frame)\n",
    "\tcv2.waitKey(1)\n",
    "\tif count>20:\n",
    "\t\tbreak\n",
    "video.release()\n",
    "cv2.destroyAllWindows()"
   ]
  },
  {
   "cell_type": "code",
   "execution_count": 10,
   "id": "f7d81c2a",
   "metadata": {},
   "outputs": [],
   "source": [
    "import splitfolders\n",
    "\n",
    "#Split with a ratio.\n",
    "#To only split into training and validation set, set a tuple to `ratio`, i.e, `(.8, .2)`.\n",
    "\n",
    "splitfolders.ratio(r'C:\\Users\\adi\\Desktop\\face detection based attendance system\\images', output=\"divided\", seed=1337, ratio=(.8, .2)) # default values\n"
   ]
  },
  {
   "cell_type": "code",
   "execution_count": null,
   "id": "45801afb",
   "metadata": {},
   "outputs": [],
   "source": []
  }
 ],
 "metadata": {
  "kernelspec": {
   "display_name": "Python 3 (ipykernel)",
   "language": "python",
   "name": "python3"
  },
  "language_info": {
   "codemirror_mode": {
    "name": "ipython",
    "version": 3
   },
   "file_extension": ".py",
   "mimetype": "text/x-python",
   "name": "python",
   "nbconvert_exporter": "python",
   "pygments_lexer": "ipython3",
   "version": "3.9.10"
  }
 },
 "nbformat": 4,
 "nbformat_minor": 5
}
